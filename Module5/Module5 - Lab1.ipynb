{
 "cells": [
  {
   "cell_type": "markdown",
   "metadata": {},
   "source": [
    "# DAT210x - Programming with Python for DS"
   ]
  },
  {
   "cell_type": "markdown",
   "metadata": {},
   "source": [
    "## Module5- Lab1"
   ]
  },
  {
   "cell_type": "markdown",
   "metadata": {
    "collapsed": true
   },
   "source": [
    "Start by importing whatever you need to import in order to make this lab work:"
   ]
  },
  {
   "cell_type": "code",
   "execution_count": 32,
   "metadata": {},
   "outputs": [],
   "source": [
    "# .. your code here ..\n",
    "import pandas as pd\n",
    "from sklearn.cluster import KMeans\n",
    "import numpy as np\n",
    "import matplotlib.pyplot as plt\n",
    "from matplotlib import style\n",
    "style.use('ggplot')"
   ]
  },
  {
   "cell_type": "markdown",
   "metadata": {
    "collapsed": true
   },
   "source": [
    "### How to Get The Dataset"
   ]
  },
  {
   "cell_type": "markdown",
   "metadata": {
    "collapsed": true
   },
   "source": [
    "1. Open up the City of Chicago's [Open Data | Crimes](https://data.cityofchicago.org/Public-Safety/Crimes-2001-to-present/ijzp-q8t2) page.\n",
    "1. In the `Primary Type` column, click on the `Menu` button next to the info button, and select `Filter This Column`. It might take a second for the filter option to show up, since it has to load the entire list first.\n",
    "1. Scroll down to `GAMBLING`\n",
    "1. Click the light blue `Export` button next to the `Filter` button, and select `Download As CSV`"
   ]
  },
  {
   "cell_type": "markdown",
   "metadata": {},
   "source": [
    "Now that you have th dataset stored as a CSV, load it up being careful to double check headers, as per usual:"
   ]
  },
  {
   "cell_type": "code",
   "execution_count": 33,
   "metadata": {},
   "outputs": [
    {
     "data": {
      "text/plain": [
       "(13950, 22)"
      ]
     },
     "execution_count": 33,
     "metadata": {},
     "output_type": "execute_result"
    }
   ],
   "source": [
    "# .. your code here ..\n",
    "df = pd.read_csv('https://raw.githubusercontent.com/anarayanan86/Microsoft_DAT210x/master/Module-5---Data-Modeling/Module5Clustering/Datasets/Crimes_-_2001_to_present.csv')\n",
    "df.head()\n",
    "df.shape"
   ]
  },
  {
   "cell_type": "markdown",
   "metadata": {},
   "source": [
    "Get rid of any _rows_ that have nans in them:"
   ]
  },
  {
   "cell_type": "code",
   "execution_count": 34,
   "metadata": {},
   "outputs": [
    {
     "name": "stdout",
     "output_type": "stream",
     "text": [
      "(12736, 22)\n"
     ]
    },
    {
     "data": {
      "text/html": [
       "<div>\n",
       "<style scoped>\n",
       "    .dataframe tbody tr th:only-of-type {\n",
       "        vertical-align: middle;\n",
       "    }\n",
       "\n",
       "    .dataframe tbody tr th {\n",
       "        vertical-align: top;\n",
       "    }\n",
       "\n",
       "    .dataframe thead th {\n",
       "        text-align: right;\n",
       "    }\n",
       "</style>\n",
       "<table border=\"1\" class=\"dataframe\">\n",
       "  <thead>\n",
       "    <tr style=\"text-align: right;\">\n",
       "      <th></th>\n",
       "      <th>ID</th>\n",
       "      <th>Case Number</th>\n",
       "      <th>Date</th>\n",
       "      <th>Block</th>\n",
       "      <th>IUCR</th>\n",
       "      <th>Primary Type</th>\n",
       "      <th>Description</th>\n",
       "      <th>Location Description</th>\n",
       "      <th>Arrest</th>\n",
       "      <th>Domestic</th>\n",
       "      <th>...</th>\n",
       "      <th>Ward</th>\n",
       "      <th>Community Area</th>\n",
       "      <th>FBI Code</th>\n",
       "      <th>X Coordinate</th>\n",
       "      <th>Y Coordinate</th>\n",
       "      <th>Year</th>\n",
       "      <th>Updated On</th>\n",
       "      <th>Latitude</th>\n",
       "      <th>Longitude</th>\n",
       "      <th>Location</th>\n",
       "    </tr>\n",
       "  </thead>\n",
       "  <tbody>\n",
       "    <tr>\n",
       "      <th>0</th>\n",
       "      <td>4647776</td>\n",
       "      <td>HM172874</td>\n",
       "      <td>02/09/2006 10:29:07 PM</td>\n",
       "      <td>075XX S COLFAX AVE</td>\n",
       "      <td>1661</td>\n",
       "      <td>GAMBLING</td>\n",
       "      <td>GAME/DICE</td>\n",
       "      <td>SIDEWALK</td>\n",
       "      <td>True</td>\n",
       "      <td>False</td>\n",
       "      <td>...</td>\n",
       "      <td>7.0</td>\n",
       "      <td>43.0</td>\n",
       "      <td>19</td>\n",
       "      <td>1194833.0</td>\n",
       "      <td>1855572.0</td>\n",
       "      <td>2006</td>\n",
       "      <td>04/15/2016 08:55:02 AM</td>\n",
       "      <td>41.758607</td>\n",
       "      <td>-87.561511</td>\n",
       "      <td>(41.758607126, -87.561510616)</td>\n",
       "    </tr>\n",
       "    <tr>\n",
       "      <th>1</th>\n",
       "      <td>4649196</td>\n",
       "      <td>HM157167</td>\n",
       "      <td>02/01/2006 12:30:27 PM</td>\n",
       "      <td>038XX W FERDINAND ST</td>\n",
       "      <td>1661</td>\n",
       "      <td>GAMBLING</td>\n",
       "      <td>GAME/DICE</td>\n",
       "      <td>SIDEWALK</td>\n",
       "      <td>True</td>\n",
       "      <td>False</td>\n",
       "      <td>...</td>\n",
       "      <td>27.0</td>\n",
       "      <td>23.0</td>\n",
       "      <td>19</td>\n",
       "      <td>1150871.0</td>\n",
       "      <td>1903067.0</td>\n",
       "      <td>2006</td>\n",
       "      <td>04/15/2016 08:55:02 AM</td>\n",
       "      <td>41.889909</td>\n",
       "      <td>-87.721389</td>\n",
       "      <td>(41.889909247, -87.721389051)</td>\n",
       "    </tr>\n",
       "    <tr>\n",
       "      <th>2</th>\n",
       "      <td>4649661</td>\n",
       "      <td>HM159623</td>\n",
       "      <td>02/02/2006 07:02:12 PM</td>\n",
       "      <td>050XX W SUPERIOR ST</td>\n",
       "      <td>1661</td>\n",
       "      <td>GAMBLING</td>\n",
       "      <td>GAME/DICE</td>\n",
       "      <td>SIDEWALK</td>\n",
       "      <td>True</td>\n",
       "      <td>False</td>\n",
       "      <td>...</td>\n",
       "      <td>28.0</td>\n",
       "      <td>25.0</td>\n",
       "      <td>19</td>\n",
       "      <td>1142605.0</td>\n",
       "      <td>1904502.0</td>\n",
       "      <td>2006</td>\n",
       "      <td>04/15/2016 08:55:02 AM</td>\n",
       "      <td>41.894005</td>\n",
       "      <td>-87.751710</td>\n",
       "      <td>(41.89400481, -87.751710086)</td>\n",
       "    </tr>\n",
       "    <tr>\n",
       "      <th>3</th>\n",
       "      <td>4650448</td>\n",
       "      <td>HM158020</td>\n",
       "      <td>02/01/2006 08:13:00 PM</td>\n",
       "      <td>056XX W WASHINGTON BLVD</td>\n",
       "      <td>1661</td>\n",
       "      <td>GAMBLING</td>\n",
       "      <td>GAME/DICE</td>\n",
       "      <td>RESIDENCE PORCH/HALLWAY</td>\n",
       "      <td>True</td>\n",
       "      <td>False</td>\n",
       "      <td>...</td>\n",
       "      <td>29.0</td>\n",
       "      <td>25.0</td>\n",
       "      <td>19</td>\n",
       "      <td>1138430.0</td>\n",
       "      <td>1900175.0</td>\n",
       "      <td>2006</td>\n",
       "      <td>04/15/2016 08:55:02 AM</td>\n",
       "      <td>41.882208</td>\n",
       "      <td>-87.767149</td>\n",
       "      <td>(41.882207608, -87.767148598)</td>\n",
       "    </tr>\n",
       "    <tr>\n",
       "      <th>4</th>\n",
       "      <td>4650940</td>\n",
       "      <td>HM156984</td>\n",
       "      <td>02/01/2006 10:10:00 AM</td>\n",
       "      <td>015XX W 72ND ST</td>\n",
       "      <td>1661</td>\n",
       "      <td>GAMBLING</td>\n",
       "      <td>GAME/DICE</td>\n",
       "      <td>SIDEWALK</td>\n",
       "      <td>True</td>\n",
       "      <td>False</td>\n",
       "      <td>...</td>\n",
       "      <td>17.0</td>\n",
       "      <td>67.0</td>\n",
       "      <td>19</td>\n",
       "      <td>1167231.0</td>\n",
       "      <td>1856980.0</td>\n",
       "      <td>2006</td>\n",
       "      <td>04/15/2016 08:55:02 AM</td>\n",
       "      <td>41.763106</td>\n",
       "      <td>-87.662629</td>\n",
       "      <td>(41.763105901, -87.66262925)</td>\n",
       "    </tr>\n",
       "  </tbody>\n",
       "</table>\n",
       "<p>5 rows × 22 columns</p>\n",
       "</div>"
      ],
      "text/plain": [
       "        ID Case Number                    Date                    Block  IUCR  \\\n",
       "0  4647776    HM172874  02/09/2006 10:29:07 PM       075XX S COLFAX AVE  1661   \n",
       "1  4649196    HM157167  02/01/2006 12:30:27 PM     038XX W FERDINAND ST  1661   \n",
       "2  4649661    HM159623  02/02/2006 07:02:12 PM      050XX W SUPERIOR ST  1661   \n",
       "3  4650448    HM158020  02/01/2006 08:13:00 PM  056XX W WASHINGTON BLVD  1661   \n",
       "4  4650940    HM156984  02/01/2006 10:10:00 AM          015XX W 72ND ST  1661   \n",
       "\n",
       "  Primary Type Description     Location Description  Arrest  Domestic  \\\n",
       "0     GAMBLING   GAME/DICE                 SIDEWALK    True     False   \n",
       "1     GAMBLING   GAME/DICE                 SIDEWALK    True     False   \n",
       "2     GAMBLING   GAME/DICE                 SIDEWALK    True     False   \n",
       "3     GAMBLING   GAME/DICE  RESIDENCE PORCH/HALLWAY    True     False   \n",
       "4     GAMBLING   GAME/DICE                 SIDEWALK    True     False   \n",
       "\n",
       "               ...                Ward  Community Area  FBI Code  \\\n",
       "0              ...                 7.0            43.0        19   \n",
       "1              ...                27.0            23.0        19   \n",
       "2              ...                28.0            25.0        19   \n",
       "3              ...                29.0            25.0        19   \n",
       "4              ...                17.0            67.0        19   \n",
       "\n",
       "   X Coordinate  Y Coordinate  Year              Updated On   Latitude  \\\n",
       "0     1194833.0     1855572.0  2006  04/15/2016 08:55:02 AM  41.758607   \n",
       "1     1150871.0     1903067.0  2006  04/15/2016 08:55:02 AM  41.889909   \n",
       "2     1142605.0     1904502.0  2006  04/15/2016 08:55:02 AM  41.894005   \n",
       "3     1138430.0     1900175.0  2006  04/15/2016 08:55:02 AM  41.882208   \n",
       "4     1167231.0     1856980.0  2006  04/15/2016 08:55:02 AM  41.763106   \n",
       "\n",
       "   Longitude                       Location  \n",
       "0 -87.561511  (41.758607126, -87.561510616)  \n",
       "1 -87.721389  (41.889909247, -87.721389051)  \n",
       "2 -87.751710   (41.89400481, -87.751710086)  \n",
       "3 -87.767149  (41.882207608, -87.767148598)  \n",
       "4 -87.662629   (41.763105901, -87.66262925)  \n",
       "\n",
       "[5 rows x 22 columns]"
      ]
     },
     "execution_count": 34,
     "metadata": {},
     "output_type": "execute_result"
    }
   ],
   "source": [
    "# .. your code here ..\n",
    "df = df.dropna(axis=0)\n",
    "print(df.shape)\n",
    "df.head()"
   ]
  },
  {
   "cell_type": "markdown",
   "metadata": {},
   "source": [
    "Display the `dtypes` of your dset:"
   ]
  },
  {
   "cell_type": "code",
   "execution_count": 35,
   "metadata": {},
   "outputs": [
    {
     "data": {
      "text/plain": [
       "ID                        int64\n",
       "Case Number              object\n",
       "Date                     object\n",
       "Block                    object\n",
       "IUCR                      int64\n",
       "Primary Type             object\n",
       "Description              object\n",
       "Location Description     object\n",
       "Arrest                     bool\n",
       "Domestic                   bool\n",
       "Beat                      int64\n",
       "District                  int64\n",
       "Ward                    float64\n",
       "Community Area          float64\n",
       "FBI Code                  int64\n",
       "X Coordinate            float64\n",
       "Y Coordinate            float64\n",
       "Year                      int64\n",
       "Updated On               object\n",
       "Latitude                float64\n",
       "Longitude               float64\n",
       "Location                 object\n",
       "dtype: object"
      ]
     },
     "execution_count": 35,
     "metadata": {},
     "output_type": "execute_result"
    }
   ],
   "source": [
    "# .. your code here ..\n",
    "df.dtypes"
   ]
  },
  {
   "cell_type": "markdown",
   "metadata": {},
   "source": [
    "Coerce the `Date` feature (which is currently a string object) into real date, and confirm by displaying the `dtypes` again. This might be a slow executing process..."
   ]
  },
  {
   "cell_type": "code",
   "execution_count": 36,
   "metadata": {},
   "outputs": [
    {
     "data": {
      "text/plain": [
       "ID                               int64\n",
       "Case Number                     object\n",
       "Date                    datetime64[ns]\n",
       "Block                           object\n",
       "IUCR                             int64\n",
       "Primary Type                    object\n",
       "Description                     object\n",
       "Location Description            object\n",
       "Arrest                            bool\n",
       "Domestic                          bool\n",
       "Beat                             int64\n",
       "District                         int64\n",
       "Ward                           float64\n",
       "Community Area                 float64\n",
       "FBI Code                         int64\n",
       "X Coordinate                   float64\n",
       "Y Coordinate                   float64\n",
       "Year                             int64\n",
       "Updated On                      object\n",
       "Latitude                       float64\n",
       "Longitude                      float64\n",
       "Location                        object\n",
       "dtype: object"
      ]
     },
     "execution_count": 36,
     "metadata": {},
     "output_type": "execute_result"
    }
   ],
   "source": [
    "# .. your code here ..\n",
    "df.Date = pd.to_datetime(df.Date, errors='coerce')\n",
    "df.dtypes"
   ]
  },
  {
   "cell_type": "code",
   "execution_count": 37,
   "metadata": {},
   "outputs": [],
   "source": [
    "def doKMeans(df):\n",
    "    # Let's plot your data with a '.' marker, a 0.3 alpha at the Longitude,\n",
    "    # and Latitude locations in your dataset. Longitude = x, Latitude = y\n",
    "    fig = plt.figure()\n",
    "    ax = fig.add_subplot(111)\n",
    "    ax.scatter(df.Longitude, df.Latitude, marker='.', alpha=0.3)\n",
    "\n",
    "    \n",
    "    # TODO: Filter `df` using indexing so it only contains Longitude and Latitude,\n",
    "    # since the remaining columns aren't really applicable for this lab:\n",
    "    #\n",
    "    # .. your code here ..\n",
    "    long_and_lat = df.loc[:, ['Latitude', 'Longitude']]\n",
    "    print(long_and_lat)\n",
    "\n",
    "    # TODO: Use K-Means to try and find seven cluster centers in this df.\n",
    "    # Be sure to name your kmeans model `model` so that the printing works.\n",
    "    #\n",
    "    # .. your code here ..\n",
    "    model = KMeans(n_clusters=7, init='random',n_init = 60, max_iter = 360, random_state=0).fit(long_and_lat)\n",
    "\n",
    "    # Now we can print and plot the centroids:\n",
    "    centroids = model.cluster_centers_\n",
    "    print(centroids)\n",
    "    ax.scatter(centroids[:,0], centroids[:,1], marker='x', c='red', alpha=0.5, linewidths=3, s=169)\n",
    "    plt.show()"
   ]
  },
  {
   "cell_type": "code",
   "execution_count": 38,
   "metadata": {},
   "outputs": [
    {
     "name": "stdout",
     "output_type": "stream",
     "text": [
      "        Latitude  Longitude\n",
      "0      41.758607 -87.561511\n",
      "1      41.889909 -87.721389\n",
      "2      41.894005 -87.751710\n",
      "3      41.882208 -87.767149\n",
      "4      41.763106 -87.662629\n",
      "5      41.882983 -87.756382\n",
      "6      41.851434 -87.633305\n",
      "7      41.961084 -87.754869\n",
      "8      41.739137 -87.721580\n",
      "9      41.975280 -87.752177\n",
      "10     41.910725 -87.752686\n",
      "11     41.783810 -87.619995\n",
      "12     41.721097 -87.631099\n",
      "13     41.909265 -87.774779\n",
      "14     41.677871 -87.617813\n",
      "15     41.939268 -87.712938\n",
      "16     41.916850 -87.752605\n",
      "17     41.780254 -87.614758\n",
      "18     41.952743 -87.798049\n",
      "19     41.783432 -87.615702\n",
      "20     41.849798 -87.631943\n",
      "21     41.968469 -87.706764\n",
      "22     41.706070 -87.653646\n",
      "25     41.968469 -87.706764\n",
      "26     41.767413 -87.620943\n",
      "27     41.795320 -87.660977\n",
      "28     41.881666 -87.754246\n",
      "29     41.782102 -87.586502\n",
      "30     41.750854 -87.557726\n",
      "31     41.865133 -87.662687\n",
      "...          ...        ...\n",
      "13920  41.778311 -87.689715\n",
      "13921  41.878508 -87.752155\n",
      "13922  41.769635 -87.660307\n",
      "13923  41.885654 -87.754364\n",
      "13924  41.762081 -87.684394\n",
      "13925  41.771097 -87.682103\n",
      "13926  41.778508 -87.684840\n",
      "13927  41.890444 -87.719834\n",
      "13928  41.885737 -87.745950\n",
      "13929  41.889132 -87.722234\n",
      "13930  41.816670 -87.614759\n",
      "13931  41.778361 -87.686063\n",
      "13932  41.903511 -87.758280\n",
      "13933  41.860146 -87.726214\n",
      "13934  41.909396 -87.764017\n",
      "13935  41.765845 -87.662626\n",
      "13936  41.688025 -87.619494\n",
      "13937  41.776492 -87.688457\n",
      "13938  41.894286 -87.718717\n",
      "13939  41.889897 -87.722620\n",
      "13940  41.880682 -87.729409\n",
      "13941  41.771338 -87.682108\n",
      "13942  41.743739 -87.562462\n",
      "13943  41.883862 -87.696361\n",
      "13944  41.742641 -87.646295\n",
      "13945  41.778330 -87.689715\n",
      "13946  41.778512 -87.693376\n",
      "13947  41.727329 -87.587921\n",
      "13948  41.873699 -87.704705\n",
      "13949  41.791722 -87.653596\n",
      "\n",
      "[12736 rows x 2 columns]\n",
      "[[ 41.69658783 -87.63125273]\n",
      " [ 41.87816103 -87.70954894]\n",
      " [ 41.77282499 -87.6646569 ]\n",
      " [ 41.80355817 -87.61951237]\n",
      " [ 41.89348542 -87.75693195]\n",
      " [ 41.98183762 -87.684885  ]\n",
      " [ 41.75269432 -87.582646  ]]\n"
     ]
    },
    {
     "data": {
      "image/png": "[encoded data removed]",
      "text/plain": [
       "<Figure size 432x288 with 1 Axes>"
      ]
     },
     "metadata": {},
     "output_type": "display_data"
    }
   ],
   "source": [
    "# Print & Plot your data\n",
    "doKMeans(df)"
   ]
  },
  {
   "cell_type": "markdown",
   "metadata": {},
   "source": [
    "Filter out the data so that it only contains samples that have a `Date > '2011-01-01'`, using indexing. Then, in a new figure, plot the crime incidents, as well as a new K-Means run's centroids."
   ]
  },
  {
   "cell_type": "code",
   "execution_count": 39,
   "metadata": {},
   "outputs": [],
   "source": [
    "# .. your code here ..\n",
    "df2 = df[df.Date > '2011-01-01']"
   ]
  },
  {
   "cell_type": "code",
   "execution_count": 40,
   "metadata": {},
   "outputs": [
    {
     "name": "stdout",
     "output_type": "stream",
     "text": [
      "        Latitude  Longitude\n",
      "278    41.789957 -87.654766\n",
      "2734   41.946215 -87.807039\n",
      "2735   41.897622 -87.761554\n",
      "2736   41.953830 -87.714683\n",
      "2737   41.891923 -87.757940\n",
      "2738   41.885733 -87.746214\n",
      "2739   41.772409 -87.587832\n",
      "2740   41.791703 -87.653596\n",
      "2742   41.772386 -87.590226\n",
      "2743   41.802576 -87.656306\n",
      "2744   41.866258 -87.718645\n",
      "2745   41.878563 -87.747906\n",
      "2746   41.893583 -87.720223\n",
      "2747   41.766011 -87.657782\n",
      "2748   41.762213 -87.684396\n",
      "2749   41.765852 -87.660203\n",
      "2751   41.777751 -87.657274\n",
      "2752   41.790069 -87.654769\n",
      "2753   41.769803 -87.662739\n",
      "2754   41.762194 -87.684396\n",
      "2755   41.762428 -87.667394\n",
      "2809   41.983065 -87.709177\n",
      "2810   41.986995 -87.701675\n",
      "2811   42.003023 -87.672312\n",
      "2812   41.763713 -87.693006\n",
      "2813   41.996621 -87.699605\n",
      "2814   41.976374 -87.708698\n",
      "2815   41.762797 -87.605504\n",
      "2816   41.709644 -87.655641\n",
      "2817   41.789774 -87.655978\n",
      "...          ...        ...\n",
      "13920  41.778311 -87.689715\n",
      "13921  41.878508 -87.752155\n",
      "13922  41.769635 -87.660307\n",
      "13923  41.885654 -87.754364\n",
      "13924  41.762081 -87.684394\n",
      "13925  41.771097 -87.682103\n",
      "13926  41.778508 -87.684840\n",
      "13927  41.890444 -87.719834\n",
      "13928  41.885737 -87.745950\n",
      "13929  41.889132 -87.722234\n",
      "13930  41.816670 -87.614759\n",
      "13931  41.778361 -87.686063\n",
      "13932  41.903511 -87.758280\n",
      "13933  41.860146 -87.726214\n",
      "13934  41.909396 -87.764017\n",
      "13935  41.765845 -87.662626\n",
      "13936  41.688025 -87.619494\n",
      "13937  41.776492 -87.688457\n",
      "13938  41.894286 -87.718717\n",
      "13939  41.889897 -87.722620\n",
      "13940  41.880682 -87.729409\n",
      "13941  41.771338 -87.682108\n",
      "13942  41.743739 -87.562462\n",
      "13943  41.883862 -87.696361\n",
      "13944  41.742641 -87.646295\n",
      "13945  41.778330 -87.689715\n",
      "13946  41.778512 -87.693376\n",
      "13947  41.727329 -87.587921\n",
      "13948  41.873699 -87.704705\n",
      "13949  41.791722 -87.653596\n",
      "\n",
      "[2863 rows x 2 columns]\n",
      "[[ 41.87507525 -87.71049693]\n",
      " [ 41.70513332 -87.63524766]\n",
      " [ 41.89006738 -87.75477854]\n",
      " [ 41.7920552  -87.61883079]\n",
      " [ 41.98536496 -87.68522419]\n",
      " [ 41.77600763 -87.66450605]\n",
      " [ 41.75068207 -87.58035946]]\n"
     ]
    },
    {
     "data": {
      "image/png": "[encoded data removed]",
      "text/plain": [
       "<Figure size 432x288 with 1 Axes>"
      ]
     },
     "metadata": {},
     "output_type": "display_data"
    }
   ],
   "source": [
    "# Print & Plot your data\n",
    "doKMeans(df2)"
   ]
  },
  {
   "cell_type": "code",
   "execution_count": null,
   "metadata": {
    "collapsed": true
   },
   "outputs": [],
   "source": []
  }
 ],
 "metadata": {
  "anaconda-cloud": {},
  "kernelspec": {
   "display_name": "Python 3",
   "language": "python",
   "name": "python3"
  },
  "language_info": {
   "codemirror_mode": {
    "name": "ipython",
    "version": 3
   },
   "file_extension": ".py",
   "mimetype": "text/x-python",
   "name": "python",
   "nbconvert_exporter": "python",
   "pygments_lexer": "ipython3",
   "version": "3.6.5"
  },
  "toc": {
   "colors": {
    "hover_highlight": "#DAA520",
    "running_highlight": "#FF0000",
    "selected_highlight": "#FFD700"
   },
   "moveMenuLeft": true,
   "nav_menu": {
    "height": "58px",
    "width": "252px"
   },
   "navigate_menu": true,
   "number_sections": true,
   "sideBar": true,
   "threshold": 4,
   "toc_cell": false,
   "toc_section_display": "block",
   "toc_window_display": false,
   "widenNotebook": false
  }
 },
 "nbformat": 4,
 "nbformat_minor": 2
}
